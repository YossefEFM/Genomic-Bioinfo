{
 "cells": [
  {
   "cell_type": "code",
   "execution_count": 1,
   "id": "8c852909",
   "metadata": {},
   "outputs": [],
   "source": [
    "Start, End= 0, 0\n",
    "Right, Left = [], []\n",
    "Result =[]"
   ]
  },
  {
   "cell_type": "code",
   "execution_count": 2,
   "id": "a043dccb",
   "metadata": {},
   "outputs": [
    {
     "data": {
      "text/plain": [
       "['AGG', 'GGG', 'GGA', 'AGG', 'GGG', 'GAG']"
      ]
     },
     "execution_count": 2,
     "metadata": {},
     "output_type": "execute_result"
    }
   ],
   "source": [
    "Reads = [\"GAGG\",\"GGGG\",\"GGGA\",\"CAGG\",\"AGGG\",\"GGAG\"]\n",
    "for read in Reads:\n",
    "    Right.append(read[:len(read)-1])\n",
    "    Left.append(read[1:])\n",
    "Left"
   ]
  },
  {
   "cell_type": "code",
   "execution_count": 3,
   "id": "3d054b44",
   "metadata": {},
   "outputs": [
    {
     "data": {
      "text/plain": [
       "['CAG']"
      ]
     },
     "execution_count": 3,
     "metadata": {},
     "output_type": "execute_result"
    }
   ],
   "source": [
    "for j in range(len(Right)):\n",
    "    if Right[j] not in Left:\n",
    "        Start = j\n",
    "    if Left[j] not in Right:\n",
    "        End = j\n",
    "\n",
    "Result.append(Right[Start])\n",
    "Result"
   ]
  },
  {
   "cell_type": "code",
   "execution_count": 4,
   "id": "9ecc3dc5",
   "metadata": {},
   "outputs": [
    {
     "data": {
      "text/plain": [
       "['CAG']"
      ]
     },
     "execution_count": 4,
     "metadata": {},
     "output_type": "execute_result"
    }
   ],
   "source": [
    "j = Start\n",
    "while(True):\n",
    "    if Left[j] == Left[End]:\n",
    "        break\n",
    "    for i in range(len(Right)):\n",
    "        if Left[i] in Right:\n",
    "            Result.append(Left[i])\n",
    "            j = i\n",
    "            break\n",
    "Result"
   ]
  },
  {
   "cell_type": "code",
   "execution_count": 5,
   "id": "ed7b8c5c",
   "metadata": {},
   "outputs": [],
   "source": [
    "N = 0"
   ]
  },
  {
   "cell_type": "code",
   "execution_count": 6,
   "id": "033d6ac2",
   "metadata": {},
   "outputs": [
    {
     "data": {
      "text/plain": [
       "['CAG',\n",
       " 'AGG',\n",
       " 'GGG',\n",
       " 'GGG',\n",
       " 'GGG',\n",
       " 'GGG',\n",
       " 'GGG',\n",
       " 'GGG',\n",
       " 'GGG',\n",
       " 'GGG',\n",
       " 'GGG',\n",
       " 'GGG',\n",
       " 'GGG']"
      ]
     },
     "execution_count": 6,
     "metadata": {},
     "output_type": "execute_result"
    }
   ],
   "source": [
    "for i in range(2*len(Right)):\n",
    "    if Result[N] in Right:\n",
    "        x = Right.index(Result[N])\n",
    "        Result.append(Left[x])\n",
    "    N+=1\n",
    "    if Result[N-1] == Result[N]:\n",
    "        Right = tuple(Right)\n",
    "        Left = tuple(Left)\n",
    "    \n",
    "Result"
   ]
  },
  {
   "cell_type": "code",
   "execution_count": 7,
   "id": "f23471ff",
   "metadata": {},
   "outputs": [
    {
     "ename": "TypeError",
     "evalue": "unsupported operand type(s) for -: 'str' and 'int'",
     "output_type": "error",
     "traceback": [
      "\u001b[1;31m---------------------------------------------------------------------------\u001b[0m",
      "\u001b[1;31mTypeError\u001b[0m                                 Traceback (most recent call last)",
      "\u001b[1;32m~\\AppData\\Local\\Temp\\ipykernel_16004\\3093630345.py\u001b[0m in \u001b[0;36m<module>\u001b[1;34m\u001b[0m\n\u001b[0;32m      1\u001b[0m \u001b[0mfinal\u001b[0m \u001b[1;33m=\u001b[0m \u001b[1;33m[\u001b[0m\u001b[0mResult\u001b[0m\u001b[1;33m[\u001b[0m\u001b[1;36m0\u001b[0m\u001b[1;33m]\u001b[0m\u001b[1;33m]\u001b[0m\u001b[1;33m\u001b[0m\u001b[1;33m\u001b[0m\u001b[0m\n\u001b[0;32m      2\u001b[0m \u001b[1;32mfor\u001b[0m \u001b[0mi\u001b[0m \u001b[1;32min\u001b[0m \u001b[0mrange\u001b[0m\u001b[1;33m(\u001b[0m\u001b[1;36m1\u001b[0m\u001b[1;33m,\u001b[0m\u001b[0mlen\u001b[0m\u001b[1;33m(\u001b[0m\u001b[0mResult\u001b[0m\u001b[1;33m)\u001b[0m\u001b[1;33m)\u001b[0m\u001b[1;33m:\u001b[0m\u001b[1;33m\u001b[0m\u001b[1;33m\u001b[0m\u001b[0m\n\u001b[1;32m----> 3\u001b[1;33m     \u001b[0mfinal\u001b[0m\u001b[1;33m.\u001b[0m\u001b[0mappend\u001b[0m\u001b[1;33m(\u001b[0m\u001b[0mResult\u001b[0m\u001b[1;33m[\u001b[0m\u001b[0mi\u001b[0m\u001b[1;33m]\u001b[0m\u001b[1;33m[\u001b[0m\u001b[0mlen\u001b[0m\u001b[1;33m(\u001b[0m\u001b[0mResult\u001b[0m\u001b[1;33m[\u001b[0m\u001b[1;36m0\u001b[0m\u001b[1;33m]\u001b[0m\u001b[1;33m-\u001b[0m\u001b[1;36m1\u001b[0m\u001b[1;33m)\u001b[0m\u001b[1;33m]\u001b[0m\u001b[1;33m)\u001b[0m\u001b[1;33m\u001b[0m\u001b[1;33m\u001b[0m\u001b[0m\n\u001b[0m",
      "\u001b[1;31mTypeError\u001b[0m: unsupported operand type(s) for -: 'str' and 'int'"
     ]
    }
   ],
   "source": [
    "final = [Result[0]]\n",
    "for i in range(1,len(Result)):\n",
    "    final.append(Result[i][len(Result[0]-1)])"
   ]
  }
 ],
 "metadata": {
  "kernelspec": {
   "display_name": "Python 3 (ipykernel)",
   "language": "python",
   "name": "python3"
  },
  "language_info": {
   "codemirror_mode": {
    "name": "ipython",
    "version": 3
   },
   "file_extension": ".py",
   "mimetype": "text/x-python",
   "name": "python",
   "nbconvert_exporter": "python",
   "pygments_lexer": "ipython3",
   "version": "3.9.13"
  }
 },
 "nbformat": 4,
 "nbformat_minor": 5
}
