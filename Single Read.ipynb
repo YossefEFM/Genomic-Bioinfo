{
 "cells": [
  {
   "cell_type": "markdown",
   "id": "0393cab4",
   "metadata": {},
   "source": [
    "# Reading Files"
   ]
  },
  {
   "cell_type": "code",
   "execution_count": 1,
   "id": "a1f39a7a",
   "metadata": {},
   "outputs": [],
   "source": [
    "single_read, Right, Left, Result = [], [], [], []\n",
    "Start, End, N = 0, 0, 1"
   ]
  },
  {
   "cell_type": "code",
   "execution_count": 2,
   "id": "b226b013",
   "metadata": {},
   "outputs": [],
   "source": [
    "with open('SingleReadInput3.txt', 'r') as fh:\n",
    "    Input = [line for line in fh]\n",
    "#print(Input)\n",
    "\n",
    "with open('SingleReadOutput3.txt', 'r') as fh:\n",
    "    Output = [line for line in fh]\n",
    "#print(Output)    "
   ]
  },
  {
   "cell_type": "code",
   "execution_count": 3,
   "id": "f8810289",
   "metadata": {},
   "outputs": [],
   "source": [
    "for sub in Input:\n",
    "    single_read.append(sub.replace(\"\\n\", \"\"))\n",
    "#single_read"
   ]
  },
  {
   "cell_type": "markdown",
   "id": "4d82407c",
   "metadata": {},
   "source": [
    "# Finding Size"
   ]
  },
  {
   "cell_type": "code",
   "execution_count": 4,
   "id": "6ac9d23b",
   "metadata": {},
   "outputs": [
    {
     "data": {
      "text/plain": [
       "'4'"
      ]
     },
     "execution_count": 4,
     "metadata": {},
     "output_type": "execute_result"
    }
   ],
   "source": [
    "Size = int(single_read[0])\n",
    "#print(Size)\n",
    "\n",
    "single_read.pop(0)\n",
    "#single_read"
   ]
  },
  {
   "cell_type": "markdown",
   "id": "7c902f11",
   "metadata": {},
   "source": [
    "# Split Reads"
   ]
  },
  {
   "cell_type": "code",
   "execution_count": 5,
   "id": "3e916ada",
   "metadata": {},
   "outputs": [],
   "source": [
    "for read in single_read:\n",
    "    Right.append(read[1:])\n",
    "    Left.append(read[:len(read)-1])"
   ]
  },
  {
   "cell_type": "code",
   "execution_count": 6,
   "id": "c9583724",
   "metadata": {},
   "outputs": [],
   "source": [
    "# Finding Start & End  \n",
    "for j in range(len(Left)):\n",
    "    if Left[j] not in Right:\n",
    "        Start = j\n",
    "\n",
    "for j in range(len(Right)):\n",
    "    if Right[j] not in Left:\n",
    "        End = j"
   ]
  },
  {
   "cell_type": "markdown",
   "id": "c16de7e8",
   "metadata": {},
   "source": [
    "# Draw graph (Path)"
   ]
  },
  {
   "cell_type": "code",
   "execution_count": 7,
   "id": "fa6cbbaa",
   "metadata": {},
   "outputs": [],
   "source": [
    "Result.append(Left[Start])\n",
    "Result.append(Right[Start])\n",
    "for i in range(len(Left)):\n",
    "    if Result[N] in Left:\n",
    "        if Result[N] == Result[N-1]:\n",
    "            Left.remove(Result[N])\n",
    "            Right.remove(Result[N])\n",
    "        \n",
    "        P_index= Left.index(Result[N])\n",
    "        Result.append(Right[P_index])\n",
    "    \n",
    "    N+= 1\n",
    "    if Result[N] == Right[End]:\n",
    "        break"
   ]
  },
  {
   "cell_type": "code",
   "execution_count": 8,
   "id": "158580a0",
   "metadata": {},
   "outputs": [
    {
     "data": {
      "text/plain": [
       "['GGC', 'GCT', 'CTT', 'TTA', 'TAC', 'ACC', 'CCA']"
      ]
     },
     "execution_count": 8,
     "metadata": {},
     "output_type": "execute_result"
    }
   ],
   "source": [
    "Result"
   ]
  },
  {
   "cell_type": "markdown",
   "id": "f0b0a7c5",
   "metadata": {},
   "source": [
    "# Assemble Genome"
   ]
  },
  {
   "cell_type": "code",
   "execution_count": 9,
   "id": "6a61011e",
   "metadata": {},
   "outputs": [
    {
     "data": {
      "text/plain": [
       "'GGCTTACCA'"
      ]
     },
     "execution_count": 9,
     "metadata": {},
     "output_type": "execute_result"
    }
   ],
   "source": [
    "concate = Result[0]\n",
    "for i in range(1,len(Result)):\n",
    "    concate += Result[i][-1]\n",
    "concate"
   ]
  },
  {
   "cell_type": "code",
   "execution_count": 10,
   "id": "4fd38ae4",
   "metadata": {},
   "outputs": [
    {
     "name": "stdout",
     "output_type": "stream",
     "text": [
      "Congrates\n"
     ]
    }
   ],
   "source": [
    "output = Output[0]\n",
    "if output == concate:\n",
    "    print(\"Congrates\")"
   ]
  }
 ],
 "metadata": {
  "kernelspec": {
   "display_name": "Python 3 (ipykernel)",
   "language": "python",
   "name": "python3"
  },
  "language_info": {
   "codemirror_mode": {
    "name": "ipython",
    "version": 3
   },
   "file_extension": ".py",
   "mimetype": "text/x-python",
   "name": "python",
   "nbconvert_exporter": "python",
   "pygments_lexer": "ipython3",
   "version": "3.9.13"
  }
 },
 "nbformat": 4,
 "nbformat_minor": 5
}
