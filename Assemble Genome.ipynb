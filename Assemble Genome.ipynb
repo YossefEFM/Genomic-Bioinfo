{
 "cells": [
  {
   "cell_type": "code",
   "execution_count": 1,
   "id": "ee6d40a5",
   "metadata": {},
   "outputs": [],
   "source": [
    "# # Reading Files\n",
    "def Reading_Files():\n",
    "    single_read = []\n",
    "    Infile = input(\"Write your path of input file : \\n\")\n",
    "    Outfile = input(\"Write your path of output file : \\n\")\n",
    "    with open(Infile, 'r') as fh:\n",
    "        Input = [line for line in fh]\n",
    "    #print(Input)\n",
    "\n",
    "    with open(Outfile, 'r') as fh:\n",
    "        Output = [line for line in fh]\n",
    "    #print(Output)    \n",
    "\n",
    "    for sub in Input:\n",
    "        single_read.append(sub.replace(\"\\n\", \"\"))\n",
    "    return single_read,Output"
   ]
  },
  {
   "cell_type": "code",
   "execution_count": 2,
   "id": "cd8844fd",
   "metadata": {},
   "outputs": [],
   "source": [
    "def Single_Read(single_read):\n",
    "    Right, Left, Result = [], [], []\n",
    "    Start, End, N = 0, 0, 1\n",
    "\n",
    "\n",
    "    # # Finding Size\n",
    "    Size = int(single_read[0])\n",
    "    #print(Size)\n",
    "    single_read.pop(0)\n",
    "    #single_read\n",
    "\n",
    "\n",
    "    # # Split Reads\n",
    "    for read in single_read:\n",
    "        Right.append(read[1:])\n",
    "        Left.append(read[:len(read)-1])\n",
    "\n",
    "\n",
    "    # Finding Start & End  \n",
    "    for j in range(len(Left)):\n",
    "        if Left[j] not in Right:\n",
    "            Start = j\n",
    "            break\n",
    "\n",
    "    for j in range(len(Right)):\n",
    "        if Right[j] not in Left:\n",
    "            End = j\n",
    "            break\n",
    "\n",
    "\n",
    "    # # Draw graph (Path)\n",
    "    Result.append(Left[Start])\n",
    "    Result.append(Right[Start])\n",
    "    for i in range(len(Left)):\n",
    "        if Result[N] in Left:\n",
    "            if Result[N] == Result[N-1]:\n",
    "                Left.remove(Result[N])\n",
    "                Right.remove(Result[N])\n",
    "        \n",
    "            P_index= Left.index(Result[N])\n",
    "            Result.append(Right[P_index])\n",
    "    \n",
    "        N+= 1\n",
    "        if Result[N] == Right[End]:\n",
    "            break\n",
    "\n",
    "\n",
    "\n",
    "    # # Assemble Genome\n",
    "    concate = Result[0]\n",
    "    for i in range(1,len(Result)):\n",
    "        concate += Result[i][-1]\n",
    "    #print(concate)\n",
    "    return concate"
   ]
  },
  {
   "cell_type": "code",
   "execution_count": 3,
   "id": "8a009585",
   "metadata": {},
   "outputs": [],
   "source": [
    "def Pair_read(pair_read):\n",
    "    print(\"HI\")"
   ]
  },
  {
   "cell_type": "code",
   "execution_count": 4,
   "id": "0ad48217",
   "metadata": {},
   "outputs": [],
   "source": [
    "def check(Output,concate):\n",
    "    # # Checking accuracy\n",
    "    output = Output[0]\n",
    "    if output == concate:\n",
    "        print(\"\\nTesting :Congrate\")\n",
    "    else:\n",
    "        print(\"\\nTesting :Fail\")"
   ]
  },
  {
   "cell_type": "code",
   "execution_count": 5,
   "id": "73ffb7a3",
   "metadata": {},
   "outputs": [
    {
     "name": "stdout",
     "output_type": "stream",
     "text": [
      "Write (S) if you want Single read && (P) if you want Pair read : \n",
      "s\n",
      "Write your path of input file : \n",
      "SingleReadInput.txt\n",
      "Write your path of output file : \n",
      "SingleReadOutput.txt\n",
      "\n",
      "Genome :  TGCCCCTTTGATCGCGGTTCTCGAATCCATGTAAATACAAAGATCTTATGTCCGCCGCGTATAGCGGTCGTAAAAATCTACGAGTTTCGATAACTCCAGGATCAATGCGGAACTATGCCCTTATAATAAGGCCACAATTAGTGCGCGTATTAGTGCGATTCCCATTTGCTCCTTTTCTCAACGACCAACGTAGGCGGGGGATGAGTATGCACACGCCCACCCGCTACACTCGACCCTCTCGGCTCTTTTTGTACCGGGGGCCTATATCTCCTGCACCGCCACCATCGCGTTCTCTCTTATTTTGCTATTATTATTCTTTCCAGAACATATGACATATCAGTGCAAGCTGAATCGCGAAGCGGCACTTAATACGATTTCTTGCGATGTGTCTTCTCGCGGCAATTGCTAGTGCCTGGTAAGTCACCGTGATCGTGTCTATG\n",
      "\n",
      "Testing :Congrate\n",
      "Write (Y) if you want to assemble again if no Write (N) : \n",
      "n\n"
     ]
    }
   ],
   "source": [
    "# # Main \n",
    "if __name__ == \"__main__\":\n",
    "         \n",
    "    while True:   \n",
    "        SORP = input(\"Write (S) if you want Single read && (P) if you want Pair read : \\n\")\n",
    "        In , Out = Reading_Files()\n",
    "        if SORP == \"S\" or SORP == \"s\":\n",
    "            assembly = Single_Read(In)\n",
    "            print(\"\\nGenome : \" ,assembly)\n",
    "            c= check(Out,assembly)\n",
    "        elif SORP == \"P\" or SORP == \"p\":\n",
    "            Pair_Read(In)\n",
    "        #check(assembly,Out)\n",
    "        else :\n",
    "            print(\"Enter valid choose\")\n",
    "            continue\n",
    "    \n",
    "   \n",
    "        exit = input(\"Write (Y) if you want to assemble again if no Write (N) : \\n\")\n",
    "        if exit == \"N\" or exit == \"n\":\n",
    "            break\n",
    "    "
   ]
  }
 ],
 "metadata": {
  "kernelspec": {
   "display_name": "Python 3 (ipykernel)",
   "language": "python",
   "name": "python3"
  },
  "language_info": {
   "codemirror_mode": {
    "name": "ipython",
    "version": 3
   },
   "file_extension": ".py",
   "mimetype": "text/x-python",
   "name": "python",
   "nbconvert_exporter": "python",
   "pygments_lexer": "ipython3",
   "version": "3.9.13"
  }
 },
 "nbformat": 4,
 "nbformat_minor": 5
}
